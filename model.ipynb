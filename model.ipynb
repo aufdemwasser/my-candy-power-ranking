{
 "metadata": {
  "language_info": {
   "codemirror_mode": {
    "name": "ipython",
    "version": 3
   },
   "file_extension": ".py",
   "mimetype": "text/x-python",
   "name": "python",
   "nbconvert_exporter": "python",
   "pygments_lexer": "ipython3",
   "version": "3.8.5-final"
  },
  "orig_nbformat": 2,
  "kernelspec": {
   "name": "python3",
   "display_name": "Python 3.8.5 64-bit ('myenv': conda)",
   "metadata": {
    "interpreter": {
     "hash": "b95251aae1d8592f89e9743fc7738c024b29cff4d7577e9f37b4d2b7ce7512dd"
    }
   }
  }
 },
 "nbformat": 4,
 "nbformat_minor": 2,
 "cells": [
  {
   "source": [
    "import pandas as pd\n",
    "data = pd.read_csv('candy.csv')\n",
    "data.sugarpercent = round(data.sugarpercent,3)\n",
    "data.pricepercent = round(data.pricepercent,3)"
   ],
   "cell_type": "code",
   "metadata": {},
   "execution_count": 1,
   "outputs": []
  },
  {
   "cell_type": "code",
   "execution_count": 2,
   "metadata": {},
   "outputs": [],
   "source": [
    "df = data[(data.chocolate==1)&(data.fruity==0)]"
   ]
  },
  {
   "cell_type": "code",
   "execution_count": 3,
   "metadata": {},
   "outputs": [
    {
     "output_type": "stream",
     "name": "stdout",
     "text": [
      "67.602936 38.975037\n"
     ]
    }
   ],
   "source": [
    "# 3 Musketeers and Charleston Chew haben die selbe andere Daten außer sehr unterschiedliche Bewertungen\n",
    "# verwende die durchschnitliche Wert\n",
    "w1 = df.at[1, 'winpercent']\n",
    "w2 = df.at[10, 'winpercent']\n",
    "print(w1, w2)\n",
    "df.at[1, 'winpercent'] = (w1+w2)/2\n",
    "df.at[10, 'winpercent'] = (w1+w2)/2"
   ]
  },
  {
   "cell_type": "code",
   "execution_count": 4,
   "metadata": {},
   "outputs": [
    {
     "output_type": "stream",
     "name": "stdout",
     "text": [
      "53.2889865\n"
     ]
    }
   ],
   "source": [
    "print(df.at[1, 'winpercent'] )"
   ]
  },
  {
   "cell_type": "code",
   "execution_count": 5,
   "metadata": {},
   "outputs": [],
   "source": [
    "y = df.winpercent\n",
    "y= y.to_frame()\n",
    "X = df.drop(['competitorname', 'fruity', 'chocolate', 'hard', 'winpercent'], axis=1)"
   ]
  },
  {
   "cell_type": "code",
   "execution_count": 7,
   "metadata": {},
   "outputs": [
    {
     "output_type": "stream",
     "name": "stdout",
     "text": [
      "n_estimate of RandomForestRegressor:  350\n"
     ]
    }
   ],
   "source": [
    "from sklearn.ensemble import RandomForestRegressor\n",
    "from sklearn.metrics import r2_score, mean_squared_error, mean_absolute_error\n",
    "bestParam = 0\n",
    "bestR2=0\n",
    "for i in range(100, 400, 50):\n",
    "    model = RandomForestRegressor(n_estimators = i)\n",
    "    model.fit(X,y)\n",
    "    y_pred=model.predict(X)\n",
    "    r2=r2_score(y, y_pred)\n",
    "    if r2 > bestR2:\n",
    "        bestR2 = r2\n",
    "        bestParam = i\n",
    "\n",
    "print(\"n_estimate of RandomForestRegressor: \", bestParam)  \n",
    "model = RandomForestRegressor( n_estimators=bestParam)"
   ]
  },
  {
   "cell_type": "code",
   "execution_count": 8,
   "metadata": {},
   "outputs": [
    {
     "output_type": "execute_result",
     "data": {
      "text/plain": [
       "RandomForestRegressor(n_estimators=350)"
      ]
     },
     "metadata": {},
     "execution_count": 8
    }
   ],
   "source": [
    "model.fit(X,y)"
   ]
  },
  {
   "cell_type": "code",
   "execution_count": 10,
   "metadata": {},
   "outputs": [
    {
     "output_type": "stream",
     "name": "stdout",
     "text": [
      "R2 Error:  0.8760115407367874\n"
     ]
    }
   ],
   "source": [
    "y_predorg = model.predict(X)\n",
    "\n",
    "print(\"R2 Error: \", r2_score(y, y_predorg))"
   ]
  },
  {
   "cell_type": "code",
   "execution_count": 11,
   "metadata": {},
   "outputs": [],
   "source": [
    "def isNewCandy(newCandy, existedCandys):\n",
    "    find = existedCandys.loc[(existedCandys[\"caramel\"]==newCandy['caramel']) \n",
    "                     &(existedCandys[\"peanutyalmondy\"]==newCandy['peanutyalmondy'])\n",
    "                     &(existedCandys[\"nougat\"]==newCandy['nougat'])\n",
    "                     &(existedCandys[\"crispedricewafer\"]==newCandy['crispedricewafer'])\n",
    "                     &(existedCandys[\"bar\"]==newCandy['bar'])\n",
    "                     &(existedCandys[\"pluribus\"]==newCandy['pluribus'])\n",
    "                     &(existedCandys[\"sugarpercent\"]==newCandy['sugarpercent'])\n",
    "                     &(existedCandys[\"pricepercent\"]==newCandy['pricepercent'])\n",
    "                     ]\n",
    "    return len(find) == 0"
   ]
  },
  {
   "cell_type": "code",
   "execution_count": 12,
   "metadata": {},
   "outputs": [],
   "source": [
    "sugerpercents = df.sugarpercent.unique()\n",
    "pricepercents = df.pricepercent.unique()\n",
    "possibleRecommendations = []\n",
    "for caramel in range(2):\n",
    "    for peanutyalmondy in range(2):\n",
    "        for nougat in range(2):\n",
    "            for crispedricewafer in range(2):\n",
    "                for bar in range(2):\n",
    "                    for pluribus in range(2):\n",
    "                        for sugarpercent in sugerpercents:\n",
    "                            for pricepercent in pricepercents:\n",
    "                                newCandy = {\n",
    "                                    'caramel':caramel,\n",
    "                                    'peanutyalmondy':peanutyalmondy,\n",
    "                                    'nougat':nougat,\n",
    "                                    'crispedricewafer':crispedricewafer,\n",
    "                                    'bar':bar,\n",
    "                                    'pluribus':pluribus,\n",
    "                                    'sugarpercent' : sugarpercent,\n",
    "                                    'pricepercent': pricepercent,\n",
    "                                }\n",
    "                                if isNewCandy(newCandy, X)==True:\n",
    "                                    possibleRecommendations.append(newCandy)\n",
    "\n",
    "X_test = pd.DataFrame(possibleRecommendations)"
   ]
  },
  {
   "cell_type": "code",
   "execution_count": 13,
   "metadata": {},
   "outputs": [],
   "source": [
    "y_test = model.predict(X_test)"
   ]
  },
  {
   "cell_type": "code",
   "execution_count": 14,
   "metadata": {},
   "outputs": [],
   "source": [
    "X_test['winpercent']=y_test"
   ]
  },
  {
   "cell_type": "code",
   "execution_count": 15,
   "metadata": {},
   "outputs": [
    {
     "output_type": "execute_result",
     "data": {
      "text/plain": [
       "      caramel  peanutyalmondy  nougat  crispedricewafer  bar  pluribus  \\\n",
       "4694        0               1       0                 0    0         0   \n",
       "4792        0               1       0                 0    0         0   \n",
       "7205        0               1       1                 0    0         0   \n",
       "\n",
       "      sugarpercent  pricepercent  winpercent  \n",
       "4694         0.732         0.651   78.776843  \n",
       "4792         0.825         0.651   77.563551  \n",
       "7205         0.720         0.651   77.243945  "
      ],
      "text/html": "<div>\n<style scoped>\n    .dataframe tbody tr th:only-of-type {\n        vertical-align: middle;\n    }\n\n    .dataframe tbody tr th {\n        vertical-align: top;\n    }\n\n    .dataframe thead th {\n        text-align: right;\n    }\n</style>\n<table border=\"1\" class=\"dataframe\">\n  <thead>\n    <tr style=\"text-align: right;\">\n      <th></th>\n      <th>caramel</th>\n      <th>peanutyalmondy</th>\n      <th>nougat</th>\n      <th>crispedricewafer</th>\n      <th>bar</th>\n      <th>pluribus</th>\n      <th>sugarpercent</th>\n      <th>pricepercent</th>\n      <th>winpercent</th>\n    </tr>\n  </thead>\n  <tbody>\n    <tr>\n      <th>4694</th>\n      <td>0</td>\n      <td>1</td>\n      <td>0</td>\n      <td>0</td>\n      <td>0</td>\n      <td>0</td>\n      <td>0.732</td>\n      <td>0.651</td>\n      <td>78.776843</td>\n    </tr>\n    <tr>\n      <th>4792</th>\n      <td>0</td>\n      <td>1</td>\n      <td>0</td>\n      <td>0</td>\n      <td>0</td>\n      <td>0</td>\n      <td>0.825</td>\n      <td>0.651</td>\n      <td>77.563551</td>\n    </tr>\n    <tr>\n      <th>7205</th>\n      <td>0</td>\n      <td>1</td>\n      <td>1</td>\n      <td>0</td>\n      <td>0</td>\n      <td>0</td>\n      <td>0.720</td>\n      <td>0.651</td>\n      <td>77.243945</td>\n    </tr>\n  </tbody>\n</table>\n</div>"
     },
     "metadata": {},
     "execution_count": 15
    }
   ],
   "source": [
    " X_test.sort_values(by=['winpercent'], ascending=False).head(3)"
   ]
  },
  {
   "cell_type": "code",
   "execution_count": 16,
   "metadata": {},
   "outputs": [],
   "source": [
    "df['pred_winpercent']=y_predorg"
   ]
  },
  {
   "cell_type": "code",
   "execution_count": 17,
   "metadata": {},
   "outputs": [],
   "source": [
    "df['diff_pred_real'] = df.pred_winpercent-df.winpercent"
   ]
  },
  {
   "cell_type": "code",
   "execution_count": 18,
   "metadata": {},
   "outputs": [
    {
     "output_type": "execute_result",
     "data": {
      "text/plain": [
       "                 competitorname  chocolate  fruity  caramel  peanutyalmondy  \\\n",
       "0                     100 Grand          1       0        1               0   \n",
       "1                  3 Musketeers          1       0        0               0   \n",
       "5                    Almond Joy          1       0        0               1   \n",
       "6                     Baby Ruth          1       0        1               1   \n",
       "10              Charleston Chew          1       0        0               0   \n",
       "22             HersheyÕs Kisses          1       0        0               0   \n",
       "23            HersheyÕs Krackel          1       0        0               0   \n",
       "24     HersheyÕs Milk Chocolate          1       0        0               0   \n",
       "25       HersheyÕs Special Dark          1       0        0               0   \n",
       "27                 Junior Mints          1       0        0               0   \n",
       "28                      Kit Kat          1       0        0               0   \n",
       "32          Peanut butter M&MÕs          1       0        0               1   \n",
       "33                        M&MÕs          1       0        0               0   \n",
       "35                    Milk Duds          1       0        1               0   \n",
       "36                    Milky Way          1       0        1               0   \n",
       "37           Milky Way Midnight          1       0        1               0   \n",
       "38     Milky Way Simply Caramel          1       0        1               0   \n",
       "39                       Mounds          1       0        0               0   \n",
       "40                  Mr Good Bar          1       0        0               1   \n",
       "42          Nestle Butterfinger          1       0        0               1   \n",
       "43                Nestle Crunch          1       0        0               0   \n",
       "47                  Peanut M&Ms          1       0        0               1   \n",
       "51           ReeseÕs Miniatures          1       0        0               1   \n",
       "52    ReeseÕs Peanut Butter cup          1       0        0               1   \n",
       "53               ReeseÕs pieces          1       0        0               1   \n",
       "54  ReeseÕs stuffed with pieces          1       0        0               1   \n",
       "56                         Rolo          1       0        1               0   \n",
       "59                      Sixlets          1       0        0               0   \n",
       "62              Nestle Smarties          1       0        0               0   \n",
       "64                     Snickers          1       0        1               1   \n",
       "65             Snickers Crisper          1       0        1               1   \n",
       "75         Tootsie Roll Juniors          1       0        0               0   \n",
       "76         Tootsie Roll Midgies          1       0        0               0   \n",
       "77      Tootsie Roll Snack Bars          1       0        0               0   \n",
       "79                         Twix          1       0        1               0   \n",
       "84                     Whoppers          1       0        0               0   \n",
       "\n",
       "    nougat  crispedricewafer  hard  bar  pluribus  sugarpercent  pricepercent  \\\n",
       "0        0                 1     0    1         0         0.732         0.860   \n",
       "1        1                 0     0    1         0         0.604         0.511   \n",
       "5        0                 0     0    1         0         0.465         0.767   \n",
       "6        1                 0     0    1         0         0.604         0.767   \n",
       "10       1                 0     0    1         0         0.604         0.511   \n",
       "22       0                 0     0    0         1         0.127         0.093   \n",
       "23       0                 1     0    1         0         0.430         0.918   \n",
       "24       0                 0     0    1         0         0.430         0.918   \n",
       "25       0                 0     0    1         0         0.430         0.918   \n",
       "27       0                 0     0    0         1         0.197         0.511   \n",
       "28       0                 1     0    1         0         0.313         0.511   \n",
       "32       0                 0     0    0         1         0.825         0.651   \n",
       "33       0                 0     0    0         1         0.825         0.651   \n",
       "35       0                 0     0    0         1         0.302         0.511   \n",
       "36       1                 0     0    1         0         0.604         0.651   \n",
       "37       1                 0     0    1         0         0.732         0.441   \n",
       "38       0                 0     0    1         0         0.965         0.860   \n",
       "39       0                 0     0    1         0         0.313         0.860   \n",
       "40       0                 0     0    1         0         0.313         0.918   \n",
       "42       0                 0     0    1         0         0.604         0.767   \n",
       "43       0                 1     0    1         0         0.313         0.767   \n",
       "47       0                 0     0    0         1         0.593         0.651   \n",
       "51       0                 0     0    0         0         0.034         0.279   \n",
       "52       0                 0     0    0         0         0.720         0.651   \n",
       "53       0                 0     0    0         1         0.406         0.651   \n",
       "54       0                 0     0    0         0         0.988         0.651   \n",
       "56       0                 0     0    0         1         0.860         0.860   \n",
       "59       0                 0     0    0         1         0.220         0.081   \n",
       "62       0                 0     0    0         1         0.267         0.976   \n",
       "64       1                 0     0    1         0         0.546         0.651   \n",
       "65       0                 1     0    1         0         0.604         0.651   \n",
       "75       0                 0     0    0         0         0.313         0.511   \n",
       "76       0                 0     0    0         1         0.174         0.011   \n",
       "77       0                 0     0    1         0         0.465         0.325   \n",
       "79       0                 1     0    1         0         0.546         0.906   \n",
       "84       0                 1     0    0         1         0.872         0.848   \n",
       "\n",
       "    winpercent  pred_winpercent  diff_pred_real  \n",
       "0    66.971725        66.353610       -0.618115  \n",
       "1    53.288987        55.385944        2.096958  \n",
       "5    50.347546        55.822118        5.474572  \n",
       "6    56.914547        61.282583        4.368036  \n",
       "10   53.288987        55.385944        2.096958  \n",
       "22   55.375454        51.182834       -4.192620  \n",
       "23   62.284481        63.400701        1.116220  \n",
       "24   56.490501        57.723094        1.232593  \n",
       "25   59.236122        57.723094       -1.513028  \n",
       "27   57.219250        54.242056       -2.977194  \n",
       "28   76.768600        68.653895       -8.114705  \n",
       "32   71.465050        72.108608        0.643558  \n",
       "33   66.574585        65.747911       -0.826674  \n",
       "35   55.064072        56.128291        1.064219  \n",
       "36   73.099556        68.913074       -4.186482  \n",
       "37   60.800701        61.147633        0.346932  \n",
       "38   64.353340        64.575664        0.222324  \n",
       "39   47.829754        51.695535        3.865781  \n",
       "40   54.526451        55.708975        1.182524  \n",
       "42   70.735641        66.995036       -3.740605  \n",
       "43   66.470680        65.230024       -1.240656  \n",
       "47   69.483788        71.261052        1.777264  \n",
       "51   81.866257        70.051872      -11.814385  \n",
       "52   84.180290        79.474225       -4.706065  \n",
       "53   73.434990        67.919618       -5.515372  \n",
       "54   72.887901        73.896397        1.008496  \n",
       "56   65.716286        64.324211       -1.392075  \n",
       "59   34.722000        42.117154        7.395154  \n",
       "62   37.887188        44.395277        6.508089  \n",
       "64   76.673782        73.454288       -3.219494  \n",
       "65   59.529251        64.775246        5.245995  \n",
       "75   43.068897        48.632244        5.563347  \n",
       "76   45.736748        45.348852       -0.387896  \n",
       "77   49.653503        51.071459        1.417956  \n",
       "79   81.642914        75.205161       -6.437753  \n",
       "84   49.524113        56.488017        6.963904  "
      ],
      "text/html": "<div>\n<style scoped>\n    .dataframe tbody tr th:only-of-type {\n        vertical-align: middle;\n    }\n\n    .dataframe tbody tr th {\n        vertical-align: top;\n    }\n\n    .dataframe thead th {\n        text-align: right;\n    }\n</style>\n<table border=\"1\" class=\"dataframe\">\n  <thead>\n    <tr style=\"text-align: right;\">\n      <th></th>\n      <th>competitorname</th>\n      <th>chocolate</th>\n      <th>fruity</th>\n      <th>caramel</th>\n      <th>peanutyalmondy</th>\n      <th>nougat</th>\n      <th>crispedricewafer</th>\n      <th>hard</th>\n      <th>bar</th>\n      <th>pluribus</th>\n      <th>sugarpercent</th>\n      <th>pricepercent</th>\n      <th>winpercent</th>\n      <th>pred_winpercent</th>\n      <th>diff_pred_real</th>\n    </tr>\n  </thead>\n  <tbody>\n    <tr>\n      <th>0</th>\n      <td>100 Grand</td>\n      <td>1</td>\n      <td>0</td>\n      <td>1</td>\n      <td>0</td>\n      <td>0</td>\n      <td>1</td>\n      <td>0</td>\n      <td>1</td>\n      <td>0</td>\n      <td>0.732</td>\n      <td>0.860</td>\n      <td>66.971725</td>\n      <td>66.353610</td>\n      <td>-0.618115</td>\n    </tr>\n    <tr>\n      <th>1</th>\n      <td>3 Musketeers</td>\n      <td>1</td>\n      <td>0</td>\n      <td>0</td>\n      <td>0</td>\n      <td>1</td>\n      <td>0</td>\n      <td>0</td>\n      <td>1</td>\n      <td>0</td>\n      <td>0.604</td>\n      <td>0.511</td>\n      <td>53.288987</td>\n      <td>55.385944</td>\n      <td>2.096958</td>\n    </tr>\n    <tr>\n      <th>5</th>\n      <td>Almond Joy</td>\n      <td>1</td>\n      <td>0</td>\n      <td>0</td>\n      <td>1</td>\n      <td>0</td>\n      <td>0</td>\n      <td>0</td>\n      <td>1</td>\n      <td>0</td>\n      <td>0.465</td>\n      <td>0.767</td>\n      <td>50.347546</td>\n      <td>55.822118</td>\n      <td>5.474572</td>\n    </tr>\n    <tr>\n      <th>6</th>\n      <td>Baby Ruth</td>\n      <td>1</td>\n      <td>0</td>\n      <td>1</td>\n      <td>1</td>\n      <td>1</td>\n      <td>0</td>\n      <td>0</td>\n      <td>1</td>\n      <td>0</td>\n      <td>0.604</td>\n      <td>0.767</td>\n      <td>56.914547</td>\n      <td>61.282583</td>\n      <td>4.368036</td>\n    </tr>\n    <tr>\n      <th>10</th>\n      <td>Charleston Chew</td>\n      <td>1</td>\n      <td>0</td>\n      <td>0</td>\n      <td>0</td>\n      <td>1</td>\n      <td>0</td>\n      <td>0</td>\n      <td>1</td>\n      <td>0</td>\n      <td>0.604</td>\n      <td>0.511</td>\n      <td>53.288987</td>\n      <td>55.385944</td>\n      <td>2.096958</td>\n    </tr>\n    <tr>\n      <th>22</th>\n      <td>HersheyÕs Kisses</td>\n      <td>1</td>\n      <td>0</td>\n      <td>0</td>\n      <td>0</td>\n      <td>0</td>\n      <td>0</td>\n      <td>0</td>\n      <td>0</td>\n      <td>1</td>\n      <td>0.127</td>\n      <td>0.093</td>\n      <td>55.375454</td>\n      <td>51.182834</td>\n      <td>-4.192620</td>\n    </tr>\n    <tr>\n      <th>23</th>\n      <td>HersheyÕs Krackel</td>\n      <td>1</td>\n      <td>0</td>\n      <td>0</td>\n      <td>0</td>\n      <td>0</td>\n      <td>1</td>\n      <td>0</td>\n      <td>1</td>\n      <td>0</td>\n      <td>0.430</td>\n      <td>0.918</td>\n      <td>62.284481</td>\n      <td>63.400701</td>\n      <td>1.116220</td>\n    </tr>\n    <tr>\n      <th>24</th>\n      <td>HersheyÕs Milk Chocolate</td>\n      <td>1</td>\n      <td>0</td>\n      <td>0</td>\n      <td>0</td>\n      <td>0</td>\n      <td>0</td>\n      <td>0</td>\n      <td>1</td>\n      <td>0</td>\n      <td>0.430</td>\n      <td>0.918</td>\n      <td>56.490501</td>\n      <td>57.723094</td>\n      <td>1.232593</td>\n    </tr>\n    <tr>\n      <th>25</th>\n      <td>HersheyÕs Special Dark</td>\n      <td>1</td>\n      <td>0</td>\n      <td>0</td>\n      <td>0</td>\n      <td>0</td>\n      <td>0</td>\n      <td>0</td>\n      <td>1</td>\n      <td>0</td>\n      <td>0.430</td>\n      <td>0.918</td>\n      <td>59.236122</td>\n      <td>57.723094</td>\n      <td>-1.513028</td>\n    </tr>\n    <tr>\n      <th>27</th>\n      <td>Junior Mints</td>\n      <td>1</td>\n      <td>0</td>\n      <td>0</td>\n      <td>0</td>\n      <td>0</td>\n      <td>0</td>\n      <td>0</td>\n      <td>0</td>\n      <td>1</td>\n      <td>0.197</td>\n      <td>0.511</td>\n      <td>57.219250</td>\n      <td>54.242056</td>\n      <td>-2.977194</td>\n    </tr>\n    <tr>\n      <th>28</th>\n      <td>Kit Kat</td>\n      <td>1</td>\n      <td>0</td>\n      <td>0</td>\n      <td>0</td>\n      <td>0</td>\n      <td>1</td>\n      <td>0</td>\n      <td>1</td>\n      <td>0</td>\n      <td>0.313</td>\n      <td>0.511</td>\n      <td>76.768600</td>\n      <td>68.653895</td>\n      <td>-8.114705</td>\n    </tr>\n    <tr>\n      <th>32</th>\n      <td>Peanut butter M&amp;MÕs</td>\n      <td>1</td>\n      <td>0</td>\n      <td>0</td>\n      <td>1</td>\n      <td>0</td>\n      <td>0</td>\n      <td>0</td>\n      <td>0</td>\n      <td>1</td>\n      <td>0.825</td>\n      <td>0.651</td>\n      <td>71.465050</td>\n      <td>72.108608</td>\n      <td>0.643558</td>\n    </tr>\n    <tr>\n      <th>33</th>\n      <td>M&amp;MÕs</td>\n      <td>1</td>\n      <td>0</td>\n      <td>0</td>\n      <td>0</td>\n      <td>0</td>\n      <td>0</td>\n      <td>0</td>\n      <td>0</td>\n      <td>1</td>\n      <td>0.825</td>\n      <td>0.651</td>\n      <td>66.574585</td>\n      <td>65.747911</td>\n      <td>-0.826674</td>\n    </tr>\n    <tr>\n      <th>35</th>\n      <td>Milk Duds</td>\n      <td>1</td>\n      <td>0</td>\n      <td>1</td>\n      <td>0</td>\n      <td>0</td>\n      <td>0</td>\n      <td>0</td>\n      <td>0</td>\n      <td>1</td>\n      <td>0.302</td>\n      <td>0.511</td>\n      <td>55.064072</td>\n      <td>56.128291</td>\n      <td>1.064219</td>\n    </tr>\n    <tr>\n      <th>36</th>\n      <td>Milky Way</td>\n      <td>1</td>\n      <td>0</td>\n      <td>1</td>\n      <td>0</td>\n      <td>1</td>\n      <td>0</td>\n      <td>0</td>\n      <td>1</td>\n      <td>0</td>\n      <td>0.604</td>\n      <td>0.651</td>\n      <td>73.099556</td>\n      <td>68.913074</td>\n      <td>-4.186482</td>\n    </tr>\n    <tr>\n      <th>37</th>\n      <td>Milky Way Midnight</td>\n      <td>1</td>\n      <td>0</td>\n      <td>1</td>\n      <td>0</td>\n      <td>1</td>\n      <td>0</td>\n      <td>0</td>\n      <td>1</td>\n      <td>0</td>\n      <td>0.732</td>\n      <td>0.441</td>\n      <td>60.800701</td>\n      <td>61.147633</td>\n      <td>0.346932</td>\n    </tr>\n    <tr>\n      <th>38</th>\n      <td>Milky Way Simply Caramel</td>\n      <td>1</td>\n      <td>0</td>\n      <td>1</td>\n      <td>0</td>\n      <td>0</td>\n      <td>0</td>\n      <td>0</td>\n      <td>1</td>\n      <td>0</td>\n      <td>0.965</td>\n      <td>0.860</td>\n      <td>64.353340</td>\n      <td>64.575664</td>\n      <td>0.222324</td>\n    </tr>\n    <tr>\n      <th>39</th>\n      <td>Mounds</td>\n      <td>1</td>\n      <td>0</td>\n      <td>0</td>\n      <td>0</td>\n      <td>0</td>\n      <td>0</td>\n      <td>0</td>\n      <td>1</td>\n      <td>0</td>\n      <td>0.313</td>\n      <td>0.860</td>\n      <td>47.829754</td>\n      <td>51.695535</td>\n      <td>3.865781</td>\n    </tr>\n    <tr>\n      <th>40</th>\n      <td>Mr Good Bar</td>\n      <td>1</td>\n      <td>0</td>\n      <td>0</td>\n      <td>1</td>\n      <td>0</td>\n      <td>0</td>\n      <td>0</td>\n      <td>1</td>\n      <td>0</td>\n      <td>0.313</td>\n      <td>0.918</td>\n      <td>54.526451</td>\n      <td>55.708975</td>\n      <td>1.182524</td>\n    </tr>\n    <tr>\n      <th>42</th>\n      <td>Nestle Butterfinger</td>\n      <td>1</td>\n      <td>0</td>\n      <td>0</td>\n      <td>1</td>\n      <td>0</td>\n      <td>0</td>\n      <td>0</td>\n      <td>1</td>\n      <td>0</td>\n      <td>0.604</td>\n      <td>0.767</td>\n      <td>70.735641</td>\n      <td>66.995036</td>\n      <td>-3.740605</td>\n    </tr>\n    <tr>\n      <th>43</th>\n      <td>Nestle Crunch</td>\n      <td>1</td>\n      <td>0</td>\n      <td>0</td>\n      <td>0</td>\n      <td>0</td>\n      <td>1</td>\n      <td>0</td>\n      <td>1</td>\n      <td>0</td>\n      <td>0.313</td>\n      <td>0.767</td>\n      <td>66.470680</td>\n      <td>65.230024</td>\n      <td>-1.240656</td>\n    </tr>\n    <tr>\n      <th>47</th>\n      <td>Peanut M&amp;Ms</td>\n      <td>1</td>\n      <td>0</td>\n      <td>0</td>\n      <td>1</td>\n      <td>0</td>\n      <td>0</td>\n      <td>0</td>\n      <td>0</td>\n      <td>1</td>\n      <td>0.593</td>\n      <td>0.651</td>\n      <td>69.483788</td>\n      <td>71.261052</td>\n      <td>1.777264</td>\n    </tr>\n    <tr>\n      <th>51</th>\n      <td>ReeseÕs Miniatures</td>\n      <td>1</td>\n      <td>0</td>\n      <td>0</td>\n      <td>1</td>\n      <td>0</td>\n      <td>0</td>\n      <td>0</td>\n      <td>0</td>\n      <td>0</td>\n      <td>0.034</td>\n      <td>0.279</td>\n      <td>81.866257</td>\n      <td>70.051872</td>\n      <td>-11.814385</td>\n    </tr>\n    <tr>\n      <th>52</th>\n      <td>ReeseÕs Peanut Butter cup</td>\n      <td>1</td>\n      <td>0</td>\n      <td>0</td>\n      <td>1</td>\n      <td>0</td>\n      <td>0</td>\n      <td>0</td>\n      <td>0</td>\n      <td>0</td>\n      <td>0.720</td>\n      <td>0.651</td>\n      <td>84.180290</td>\n      <td>79.474225</td>\n      <td>-4.706065</td>\n    </tr>\n    <tr>\n      <th>53</th>\n      <td>ReeseÕs pieces</td>\n      <td>1</td>\n      <td>0</td>\n      <td>0</td>\n      <td>1</td>\n      <td>0</td>\n      <td>0</td>\n      <td>0</td>\n      <td>0</td>\n      <td>1</td>\n      <td>0.406</td>\n      <td>0.651</td>\n      <td>73.434990</td>\n      <td>67.919618</td>\n      <td>-5.515372</td>\n    </tr>\n    <tr>\n      <th>54</th>\n      <td>ReeseÕs stuffed with pieces</td>\n      <td>1</td>\n      <td>0</td>\n      <td>0</td>\n      <td>1</td>\n      <td>0</td>\n      <td>0</td>\n      <td>0</td>\n      <td>0</td>\n      <td>0</td>\n      <td>0.988</td>\n      <td>0.651</td>\n      <td>72.887901</td>\n      <td>73.896397</td>\n      <td>1.008496</td>\n    </tr>\n    <tr>\n      <th>56</th>\n      <td>Rolo</td>\n      <td>1</td>\n      <td>0</td>\n      <td>1</td>\n      <td>0</td>\n      <td>0</td>\n      <td>0</td>\n      <td>0</td>\n      <td>0</td>\n      <td>1</td>\n      <td>0.860</td>\n      <td>0.860</td>\n      <td>65.716286</td>\n      <td>64.324211</td>\n      <td>-1.392075</td>\n    </tr>\n    <tr>\n      <th>59</th>\n      <td>Sixlets</td>\n      <td>1</td>\n      <td>0</td>\n      <td>0</td>\n      <td>0</td>\n      <td>0</td>\n      <td>0</td>\n      <td>0</td>\n      <td>0</td>\n      <td>1</td>\n      <td>0.220</td>\n      <td>0.081</td>\n      <td>34.722000</td>\n      <td>42.117154</td>\n      <td>7.395154</td>\n    </tr>\n    <tr>\n      <th>62</th>\n      <td>Nestle Smarties</td>\n      <td>1</td>\n      <td>0</td>\n      <td>0</td>\n      <td>0</td>\n      <td>0</td>\n      <td>0</td>\n      <td>0</td>\n      <td>0</td>\n      <td>1</td>\n      <td>0.267</td>\n      <td>0.976</td>\n      <td>37.887188</td>\n      <td>44.395277</td>\n      <td>6.508089</td>\n    </tr>\n    <tr>\n      <th>64</th>\n      <td>Snickers</td>\n      <td>1</td>\n      <td>0</td>\n      <td>1</td>\n      <td>1</td>\n      <td>1</td>\n      <td>0</td>\n      <td>0</td>\n      <td>1</td>\n      <td>0</td>\n      <td>0.546</td>\n      <td>0.651</td>\n      <td>76.673782</td>\n      <td>73.454288</td>\n      <td>-3.219494</td>\n    </tr>\n    <tr>\n      <th>65</th>\n      <td>Snickers Crisper</td>\n      <td>1</td>\n      <td>0</td>\n      <td>1</td>\n      <td>1</td>\n      <td>0</td>\n      <td>1</td>\n      <td>0</td>\n      <td>1</td>\n      <td>0</td>\n      <td>0.604</td>\n      <td>0.651</td>\n      <td>59.529251</td>\n      <td>64.775246</td>\n      <td>5.245995</td>\n    </tr>\n    <tr>\n      <th>75</th>\n      <td>Tootsie Roll Juniors</td>\n      <td>1</td>\n      <td>0</td>\n      <td>0</td>\n      <td>0</td>\n      <td>0</td>\n      <td>0</td>\n      <td>0</td>\n      <td>0</td>\n      <td>0</td>\n      <td>0.313</td>\n      <td>0.511</td>\n      <td>43.068897</td>\n      <td>48.632244</td>\n      <td>5.563347</td>\n    </tr>\n    <tr>\n      <th>76</th>\n      <td>Tootsie Roll Midgies</td>\n      <td>1</td>\n      <td>0</td>\n      <td>0</td>\n      <td>0</td>\n      <td>0</td>\n      <td>0</td>\n      <td>0</td>\n      <td>0</td>\n      <td>1</td>\n      <td>0.174</td>\n      <td>0.011</td>\n      <td>45.736748</td>\n      <td>45.348852</td>\n      <td>-0.387896</td>\n    </tr>\n    <tr>\n      <th>77</th>\n      <td>Tootsie Roll Snack Bars</td>\n      <td>1</td>\n      <td>0</td>\n      <td>0</td>\n      <td>0</td>\n      <td>0</td>\n      <td>0</td>\n      <td>0</td>\n      <td>1</td>\n      <td>0</td>\n      <td>0.465</td>\n      <td>0.325</td>\n      <td>49.653503</td>\n      <td>51.071459</td>\n      <td>1.417956</td>\n    </tr>\n    <tr>\n      <th>79</th>\n      <td>Twix</td>\n      <td>1</td>\n      <td>0</td>\n      <td>1</td>\n      <td>0</td>\n      <td>0</td>\n      <td>1</td>\n      <td>0</td>\n      <td>1</td>\n      <td>0</td>\n      <td>0.546</td>\n      <td>0.906</td>\n      <td>81.642914</td>\n      <td>75.205161</td>\n      <td>-6.437753</td>\n    </tr>\n    <tr>\n      <th>84</th>\n      <td>Whoppers</td>\n      <td>1</td>\n      <td>0</td>\n      <td>0</td>\n      <td>0</td>\n      <td>0</td>\n      <td>1</td>\n      <td>0</td>\n      <td>0</td>\n      <td>1</td>\n      <td>0.872</td>\n      <td>0.848</td>\n      <td>49.524113</td>\n      <td>56.488017</td>\n      <td>6.963904</td>\n    </tr>\n  </tbody>\n</table>\n</div>"
     },
     "metadata": {},
     "execution_count": 18
    }
   ],
   "source": [
    "df"
   ]
  },
  {
   "cell_type": "code",
   "execution_count": null,
   "metadata": {},
   "outputs": [],
   "source": []
  }
 ]
}